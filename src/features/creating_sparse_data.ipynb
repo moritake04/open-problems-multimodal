{
 "cells": [
  {
   "cell_type": "code",
   "execution_count": 58,
   "metadata": {},
   "outputs": [],
   "source": [
    "import pandas as pd\n",
    "import numpy as np\n",
    "import scipy.sparse\n",
    "import scipy"
   ]
  },
  {
   "cell_type": "code",
   "execution_count": 2,
   "metadata": {},
   "outputs": [],
   "source": [
    "def convert_to_parquet(filename, out_filename):\n",
    "    df = pd.read_csv(filename)\n",
    "    df.to_parquet(out_filename + \".parquet\")"
   ]
  },
  {
   "cell_type": "code",
   "execution_count": 4,
   "metadata": {},
   "outputs": [],
   "source": [
    "def convert_h5_to_sparse_csr(filename, out_filename, chunksize=2500):\n",
    "    start = 0\n",
    "    total_rows = 0\n",
    "\n",
    "    sparse_chunks_data_list = []\n",
    "    chunks_index_list = []\n",
    "    columns_name = None\n",
    "    while True:\n",
    "        df_chunk = pd.read_hdf(filename, start=start, stop=start+chunksize)\n",
    "        if len(df_chunk) == 0:\n",
    "            break\n",
    "        chunk_data_as_sparse = scipy.sparse.csr_matrix(df_chunk.to_numpy())\n",
    "        sparse_chunks_data_list.append(chunk_data_as_sparse)\n",
    "        chunks_index_list.append(df_chunk.index.to_numpy())\n",
    "\n",
    "        if columns_name is None:\n",
    "            columns_name = df_chunk.columns.to_numpy()\n",
    "        else:\n",
    "            assert np.all(columns_name == df_chunk.columns.to_numpy())\n",
    "\n",
    "        total_rows += len(df_chunk)\n",
    "        print(total_rows)\n",
    "        if len(df_chunk) < chunksize:\n",
    "            del df_chunk\n",
    "            break\n",
    "        del df_chunk\n",
    "        start += chunksize\n",
    "\n",
    "    all_data_sparse = scipy.sparse.vstack(sparse_chunks_data_list)\n",
    "    del sparse_chunks_data_list\n",
    "\n",
    "    all_indices = np.hstack(chunks_index_list)\n",
    "\n",
    "    scipy.sparse.save_npz(out_filename+\"_values.sparse\", all_data_sparse)\n",
    "    np.savez(out_filename+\"_idxcol.npz\", index=all_indices, columns =columns_name)"
   ]
  },
  {
   "cell_type": "code",
   "execution_count": 5,
   "metadata": {},
   "outputs": [
    {
     "name": "stdout",
     "output_type": "stream",
     "text": [
      "2500\n",
      "5000\n",
      "7500\n",
      "10000\n",
      "12500\n",
      "15000\n",
      "17500\n",
      "20000\n",
      "22500\n",
      "25000\n",
      "27500\n",
      "30000\n",
      "32500\n",
      "35000\n",
      "37500\n",
      "40000\n",
      "42500\n",
      "45000\n",
      "47500\n",
      "50000\n",
      "52500\n",
      "55000\n",
      "57500\n",
      "60000\n",
      "62500\n",
      "65000\n",
      "67500\n",
      "70000\n",
      "72500\n",
      "75000\n",
      "77500\n",
      "80000\n",
      "82500\n",
      "85000\n",
      "87500\n",
      "90000\n",
      "92500\n",
      "95000\n",
      "97500\n",
      "100000\n",
      "102500\n",
      "105000\n",
      "105933\n"
     ]
    }
   ],
   "source": [
    "convert_h5_to_sparse_csr(\"../../data/input/train_multi_targets_raw.h5\", \"../../data/input/compressed/train_multi_targets_raw\")"
   ]
  }
 ],
 "metadata": {
  "kernelspec": {
   "display_name": "Python 3.8.13 ('machine-l')",
   "language": "python",
   "name": "python3"
  },
  "language_info": {
   "codemirror_mode": {
    "name": "ipython",
    "version": 3
   },
   "file_extension": ".py",
   "mimetype": "text/x-python",
   "name": "python",
   "nbconvert_exporter": "python",
   "pygments_lexer": "ipython3",
   "version": "3.8.13"
  },
  "orig_nbformat": 4,
  "vscode": {
   "interpreter": {
    "hash": "2be23fb8cd672a4fc54da0a64e17ec8d3dc8e8b4233761718bd33e3dee96d306"
   }
  }
 },
 "nbformat": 4,
 "nbformat_minor": 2
}
