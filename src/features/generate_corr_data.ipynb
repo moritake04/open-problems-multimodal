{
 "cells": [
  {
   "cell_type": "code",
   "execution_count": 1,
   "metadata": {},
   "outputs": [],
   "source": [
    "import numpy as np\n",
    "import pandas as pd\n",
    "import scipy\n",
    "from sklearn.decomposition import TruncatedSVD"
   ]
  },
  {
   "cell_type": "code",
   "execution_count": 2,
   "metadata": {},
   "outputs": [],
   "source": [
    "task = \"cite\""
   ]
  },
  {
   "cell_type": "code",
   "execution_count": 2,
   "metadata": {},
   "outputs": [],
   "source": [
    "task = \"multi\""
   ]
  },
  {
   "cell_type": "code",
   "execution_count": 3,
   "metadata": {},
   "outputs": [],
   "source": [
    "if task == \"cite\":\n",
    "    train_X_values = scipy.sparse.load_npz(\n",
    "        \"../../data/input/compressed/train_cite_inputs_values.sparse.npz\"\n",
    "    )\n",
    "    train_X_idxcol = np.load(\n",
    "        \"../../data/input/compressed/train_cite_inputs_idxcol.npz\", allow_pickle=True\n",
    "    )\n",
    "    test_X_values = scipy.sparse.load_npz(\n",
    "        \"../../data/input/compressed/test_cite_inputs_values.sparse.npz\"\n",
    "    )\n",
    "    test_X_idxcol = np.load(\n",
    "        \"../../data/input/compressed/test_cite_inputs_idxcol.npz\", allow_pickle=True\n",
    "    )\n",
    "    test_X_2_values = pd.read_hdf(\"../../data/input/test_cite_inputs_day_2_donor_27678.h5\").values\n",
    "    test_X_2_columns = pd.read_hdf(\"../../data/input/test_cite_inputs_day_2_donor_27678.h5\").columns\n",
    "else:\n",
    "    train_X_values = scipy.sparse.load_npz(\n",
    "        \"../../data/input/compressed/train_multi_inputs_values.sparse.npz\"\n",
    "    )\n",
    "    train_X_idxcol = np.load(\n",
    "        \"../../data/input/compressed/train_multi_inputs_idxcol.npz\", allow_pickle=True\n",
    "    )\n",
    "    test_X_values = scipy.sparse.load_npz(\n",
    "        \"../../data/input/compressed/test_multi_inputs_values.sparse.npz\"\n",
    "    )\n",
    "    test_X_idxcol = np.load(\n",
    "        \"../../data/input/compressed/test_multi_inputs_idxcol.npz\", allow_pickle=True\n",
    "    )"
   ]
  },
  {
   "cell_type": "markdown",
   "metadata": {},
   "source": [
    "Correlation"
   ]
  },
  {
   "cell_type": "code",
   "execution_count": 4,
   "metadata": {},
   "outputs": [],
   "source": [
    "if task == \"cite\":\n",
    "    correlations = np.load(\"../../data/input/correlation/correlations_citeseq.npz\")[\"correlations\"]\n",
    "    np_inputs_names = np.load(\"../../data/input/compressed/train_cite_inputs_idxcol.npz\", allow_pickle=True)[\"columns\"]\n",
    "    np_targets_names = np.load(\"../../data/input/compressed/train_cite_targets_idxcol.npz\", allow_pickle=True)[\"columns\"]\n",
    "else:\n",
    "    correlations = scipy.sparse.load_npz(\"../../data/input/correlation/correlations_multiome.sparse.npz\")\n",
    "    np_inputs_names = np.load(\"../../data/input/compressed/train_multi_inputs_idxcol.npz\", allow_pickle=True)[\"columns\"]\n",
    "    np_targets_names = np.load(\"../../data/input/compressed/train_multi_targets_idxcol.npz\", allow_pickle=True)[\"columns\"]\n",
    "    correlations = correlations.tocsc()"
   ]
  },
  {
   "cell_type": "code",
   "execution_count": 5,
   "metadata": {},
   "outputs": [],
   "source": [
    "#most_importants_inputs = np.argsort(np.squeeze(np.asarray(np.mean(np.abs(correlations), axis=0))))[::-1]\n",
    "most_importants_inputs = np.argsort(np.squeeze(np.asarray(np.mean(np.abs(correlations), axis=0))))[::-1]\n",
    "\n",
    "name_col = []\n",
    "mean_abs_cor_col = []\n",
    "mean_cor_col = []\n",
    "pc_positive_cor_col = []\n",
    "pc_negative_cor_col = []\n",
    "min_col = []\n",
    "max_col = []\n",
    "\n",
    "for num_input in most_importants_inputs:\n",
    "    mean_abs_cor = np.mean(np.abs(correlations[:,num_input]))\n",
    "    mean_cor = np.mean(correlations[:,num_input])\n",
    "    pc_positive_cor = np.mean(correlations[:,num_input]>0.01)*100\n",
    "    pc_negative_cor = np.mean(correlations[:,num_input]<-0.01)*100\n",
    "    min_val = np.min(correlations[:,num_input])\n",
    "    max_val = np.max(correlations[:,num_input])\n",
    "\n",
    "    name_col.append(np_inputs_names[num_input])\n",
    "    mean_abs_cor_col.append(mean_abs_cor)\n",
    "    mean_cor_col.append(mean_cor)\n",
    "    pc_positive_cor_col.append(pc_positive_cor)\n",
    "    pc_negative_cor_col.append(pc_negative_cor)\n",
    "\n",
    "    min_col.append(min_val)\n",
    "    max_col.append(max_val)\n",
    "\n",
    "df = pd.DataFrame({\"Input\":name_col,\n",
    "            \"avg abs cor\": mean_abs_cor_col,\n",
    "            \"avg cor\": mean_cor_col,\n",
    "            \"%positive\": pc_positive_cor_col,\n",
    "            \"%negative\": pc_negative_cor_col,\n",
    "            \"min\":min_col,\n",
    "            \"max\":max_col\n",
    "            } )"
   ]
  },
  {
   "cell_type": "code",
   "execution_count": 6,
   "metadata": {},
   "outputs": [],
   "source": [
    "cite_abg_abs_cor_10 = list(df[\"Input\"][:10].values)"
   ]
  },
  {
   "cell_type": "code",
   "execution_count": 7,
   "metadata": {},
   "outputs": [
    {
     "name": "stdout",
     "output_type": "stream",
     "text": [
      "Stored 'cite_abg_abs_cor_10' (list)\n"
     ]
    }
   ],
   "source": [
    "%store cite_abg_abs_cor_10"
   ]
  },
  {
   "cell_type": "code",
   "execution_count": 8,
   "metadata": {},
   "outputs": [
    {
     "name": "stdout",
     "output_type": "stream",
     "text": [
      "Stored variables and their in-db values:\n",
      "abg_abs_cor_100                    -> ['ENSG00000129824_RPS4Y1', 'ENSG00000229807_XIST',\n",
      "cite_abg_abs_cor_10                -> ['ENSG00000129824_RPS4Y1', 'ENSG00000229807_XIST',\n",
      "cite_abg_abs_cor_100               -> ['ENSG00000129824_RPS4Y1', 'ENSG00000229807_XIST',\n",
      "cite_abg_abs_cor_50                -> ['ENSG00000129824_RPS4Y1', 'ENSG00000229807_XIST',\n",
      "cite_abg_abs_cor_500               -> ['ENSG00000129824_RPS4Y1', 'ENSG00000229807_XIST',\n",
      "cite_avg_abs_corr_01               -> ['ENSG00000129824_RPS4Y1', 'ENSG00000229807_XIST',\n",
      "cite_max_min_corr_01               -> ['ENSG00000129824_RPS4Y1', 'ENSG00000229807_XIST',\n",
      "cite_max_min_corr_02               -> ['ENSG00000129824_RPS4Y1', 'ENSG00000229807_XIST',\n",
      "cite_max_min_corr_03               -> ['ENSG00000129824_RPS4Y1', 'ENSG00000229807_XIST',\n",
      "multi_abg_abs_cor_10               -> ['chr1:47180897-47181792', 'chr11:74011263-7401219\n",
      "multi_abg_abs_cor_100              -> ['chr1:47180897-47181792', 'chr11:74011263-7401219\n",
      "multi_abg_abs_cor_50               -> ['chr1:47180897-47181792', 'chr11:74011263-7401219\n",
      "multi_abg_abs_cor_500              -> ['chr1:47180897-47181792', 'chr11:74011263-7401219\n",
      "multi_avg_abs_corr_001             -> ['chr1:47180897-47181792', 'chr11:74011263-7401219\n",
      "multi_max_min_corr_01              -> ['chr1:47180897-47181792', 'chr11:74011263-7401219\n",
      "multi_max_min_corr_015             -> ['chr1:47180897-47181792', 'chr11:74011263-7401219\n",
      "multi_max_min_corr_02              -> ['chr1:47180897-47181792', 'chr11:74011263-7401219\n"
     ]
    }
   ],
   "source": [
    "%store"
   ]
  },
  {
   "cell_type": "code",
   "execution_count": 9,
   "metadata": {},
   "outputs": [],
   "source": [
    "%store -r"
   ]
  },
  {
   "cell_type": "code",
   "execution_count": 12,
   "metadata": {},
   "outputs": [],
   "source": [
    "use = cite_abg_abs_cor_10"
   ]
  },
  {
   "cell_type": "code",
   "execution_count": 13,
   "metadata": {},
   "outputs": [
    {
     "data": {
      "text/plain": [
       "['ENSG00000129824_RPS4Y1',\n",
       " 'ENSG00000229807_XIST',\n",
       " 'ENSG00000198692_EIF1AY',\n",
       " 'ENSG00000102145_GATA1',\n",
       " 'ENSG00000128040_SPINK2',\n",
       " 'ENSG00000198034_RPS4X',\n",
       " 'ENSG00000105610_KLF1',\n",
       " 'ENSG00000160789_LMNA',\n",
       " 'ENSG00000131002_TXLNGY',\n",
       " 'ENSG00000029534_ANK1']"
      ]
     },
     "execution_count": 13,
     "metadata": {},
     "output_type": "execute_result"
    }
   ],
   "source": [
    "use"
   ]
  },
  {
   "cell_type": "code",
   "execution_count": 15,
   "metadata": {},
   "outputs": [],
   "source": [
    "use_name = \"cite_abg_abs_cor_10\""
   ]
  },
  {
   "cell_type": "code",
   "execution_count": 16,
   "metadata": {},
   "outputs": [],
   "source": [
    "columns_idx = 0\n",
    "columns_idx_list = []\n",
    "for i in train_X_idxcol[\"columns\"]:\n",
    "    if i in use:\n",
    "        columns_idx_list.append(columns_idx)\n",
    "    columns_idx += 1"
   ]
  },
  {
   "cell_type": "code",
   "execution_count": 17,
   "metadata": {},
   "outputs": [
    {
     "data": {
      "text/plain": [
       "[4731, 8579, 9734, 11575, 12290, 17308, 17320, 18729, 20449, 21097]"
      ]
     },
     "execution_count": 17,
     "metadata": {},
     "output_type": "execute_result"
    }
   ],
   "source": [
    "columns_idx_list"
   ]
  },
  {
   "cell_type": "code",
   "execution_count": 18,
   "metadata": {},
   "outputs": [],
   "source": [
    "train_values = train_X_values[:, columns_idx_list]\n",
    "test_values = test_X_values[:, columns_idx_list]"
   ]
  },
  {
   "cell_type": "code",
   "execution_count": 19,
   "metadata": {},
   "outputs": [
    {
     "data": {
      "text/plain": [
       "(70988, 10)"
      ]
     },
     "execution_count": 19,
     "metadata": {},
     "output_type": "execute_result"
    }
   ],
   "source": [
    "train_values.shape"
   ]
  },
  {
   "cell_type": "code",
   "execution_count": 20,
   "metadata": {},
   "outputs": [
    {
     "data": {
      "text/plain": [
       "(48663, 10)"
      ]
     },
     "execution_count": 20,
     "metadata": {},
     "output_type": "execute_result"
    }
   ],
   "source": [
    "test_values.shape"
   ]
  },
  {
   "cell_type": "code",
   "execution_count": 21,
   "metadata": {},
   "outputs": [],
   "source": [
    "columns_idx = 0\n",
    "columns_idx_list = []\n",
    "for i in test_X_2_columns:\n",
    "    if i in use:\n",
    "        columns_idx_list.append(columns_idx)\n",
    "    columns_idx += 1"
   ]
  },
  {
   "cell_type": "code",
   "execution_count": 21,
   "metadata": {},
   "outputs": [
    {
     "data": {
      "text/plain": [
       "[]"
      ]
     },
     "execution_count": 21,
     "metadata": {},
     "output_type": "execute_result"
    }
   ],
   "source": [
    "columns_idx_list"
   ]
  },
  {
   "cell_type": "code",
   "execution_count": 22,
   "metadata": {},
   "outputs": [
    {
     "ename": "NameError",
     "evalue": "name 'test_X_2_values' is not defined",
     "output_type": "error",
     "traceback": [
      "\u001b[1;31m---------------------------------------------------------------------------\u001b[0m",
      "\u001b[1;31mNameError\u001b[0m                                 Traceback (most recent call last)",
      "\u001b[1;32mセル22 を i:\\マイドライブ\\Data_Science\\Kaggle\\open-problems-multimodal\\src\\features\\generate_corr_data.ipynb\u001b[0m in \u001b[0;36m<cell line: 1>\u001b[1;34m()\u001b[0m\n\u001b[1;32m----> <a href='vscode-notebook-cell:/i%3A/%E3%83%9E%E3%82%A4%E3%83%89%E3%83%A9%E3%82%A4%E3%83%96/Data_Science/Kaggle/open-problems-multimodal/src/features/generate_corr_data.ipynb#X26sZmlsZQ%3D%3D?line=0'>1</a>\u001b[0m test2_values \u001b[39m=\u001b[39m test_X_2_values[:, columns_idx_list]\n",
      "\u001b[1;31mNameError\u001b[0m: name 'test_X_2_values' is not defined"
     ]
    }
   ],
   "source": [
    "test2_values = test_X_2_values[:, columns_idx_list]"
   ]
  },
  {
   "cell_type": "code",
   "execution_count": 23,
   "metadata": {},
   "outputs": [
    {
     "ename": "NameError",
     "evalue": "name 'test2_values' is not defined",
     "output_type": "error",
     "traceback": [
      "\u001b[1;31m---------------------------------------------------------------------------\u001b[0m",
      "\u001b[1;31mNameError\u001b[0m                                 Traceback (most recent call last)",
      "\u001b[1;32mセル23 を i:\\マイドライブ\\Data_Science\\Kaggle\\open-problems-multimodal\\src\\features\\generate_corr_data.ipynb\u001b[0m in \u001b[0;36m<cell line: 1>\u001b[1;34m()\u001b[0m\n\u001b[1;32m----> <a href='vscode-notebook-cell:/i%3A/%E3%83%9E%E3%82%A4%E3%83%89%E3%83%A9%E3%82%A4%E3%83%96/Data_Science/Kaggle/open-problems-multimodal/src/features/generate_corr_data.ipynb#X30sZmlsZQ%3D%3D?line=0'>1</a>\u001b[0m test2_values\u001b[39m.\u001b[39mshape\n",
      "\u001b[1;31mNameError\u001b[0m: name 'test2_values' is not defined"
     ]
    }
   ],
   "source": [
    "test2_values.shape"
   ]
  },
  {
   "cell_type": "code",
   "execution_count": 22,
   "metadata": {},
   "outputs": [],
   "source": [
    "scipy.sparse.save_npz(f\"../../data/input/correlation/train_{use_name}_inputs.npz\", scipy.sparse.csr_matrix(train_values))"
   ]
  },
  {
   "cell_type": "code",
   "execution_count": 23,
   "metadata": {},
   "outputs": [],
   "source": [
    "scipy.sparse.save_npz(f\"../../data/input/correlation/test_{use_name}_inputs.npz\", scipy.sparse.csr_matrix(test_values))"
   ]
  },
  {
   "cell_type": "code",
   "execution_count": 26,
   "metadata": {},
   "outputs": [],
   "source": [
    "scipy.sparse.save_npz(f\"../../data/input/correlation/test2_{use_name}_inputs.npz\", scipy.sparse.csr_matrix(test2_values))"
   ]
  },
  {
   "cell_type": "code",
   "execution_count": null,
   "metadata": {},
   "outputs": [],
   "source": []
  }
 ],
 "metadata": {
  "kernelspec": {
   "display_name": "Python 3.8.13 ('machine-l')",
   "language": "python",
   "name": "python3"
  },
  "language_info": {
   "codemirror_mode": {
    "name": "ipython",
    "version": 3
   },
   "file_extension": ".py",
   "mimetype": "text/x-python",
   "name": "python",
   "nbconvert_exporter": "python",
   "pygments_lexer": "ipython3",
   "version": "3.8.13"
  },
  "orig_nbformat": 4,
  "vscode": {
   "interpreter": {
    "hash": "2be23fb8cd672a4fc54da0a64e17ec8d3dc8e8b4233761718bd33e3dee96d306"
   }
  }
 },
 "nbformat": 4,
 "nbformat_minor": 2
}
