{
 "cells": [
  {
   "cell_type": "code",
   "execution_count": null,
   "metadata": {},
   "outputs": [],
   "source": [
    "data = [[0, 1, 2, 3],"
   ]
  },
  {
   "cell_type": "code",
   "execution_count": null,
   "metadata": {},
   "outputs": [],
   "source": [
    "[round(1 / len(data), 3) for _ in range(len(data) - 1)]"
   ]
  },
  {
   "cell_type": "code",
   "execution_count": null,
   "metadata": {},
   "outputs": [],
   "source": [
    "# day split for like private test\n",
    "    if cfg[\"general\"][\"day_split\"]:\n",
    "        split_day = 4 if cfg[\"task\"] == \"cite\" else 7\n",
    "        train_meta = meta.iloc[train_indices]\n",
    "        valid_meta = meta.iloc[valid_indices]\n",
    "        train_X_cv, train_y_cv = (\n",
    "            train_X_cv[train_meta[\"day\"] != split_day],\n",
    "            train_y_cv[train_meta[\"day\"] != split_day],\n",
    "        )\n",
    "        valid_X_cv, valid_y_cv = (\n",
    "            valid_X_cv[valid_meta[\"day\"] == split_day],\n",
    "            valid_y_cv[valid_meta[\"day\"] == split_day],\n",
    "        )"
   ]
  },
  {
   "cell_type": "code",
   "execution_count": null,
   "metadata": {},
   "outputs": [],
   "source": [
    "import pandas as pd\n",
    "import sweetviz as sv\n",
    "import scipy\n",
    "import numpy as np"
   ]
  },
  {
   "cell_type": "code",
   "execution_count": null,
   "metadata": {},
   "outputs": [],
   "source": [
    "pd.read_csv(\"../../data/output/sub_mlp_1115_final.csv\")"
   ]
  },
  {
   "cell_type": "code",
   "execution_count": null,
   "metadata": {},
   "outputs": [],
   "source": [
    "train_X = pd.read_hdf(\"../../data/input/train_cite_inputs_raw.h5\")"
   ]
  },
  {
   "cell_type": "code",
   "execution_count": null,
   "metadata": {},
   "outputs": [],
   "source": [
    "train_X"
   ]
  },
  {
   "cell_type": "code",
   "execution_count": null,
   "metadata": {},
   "outputs": [],
   "source": [
    "cite_raw = scipy.sparse.load_npz(\"../../data/input/compressed/train_cite_inputs_raw_sp.npz\")"
   ]
  },
  {
   "cell_type": "code",
   "execution_count": null,
   "metadata": {},
   "outputs": [],
   "source": [
    "multi_raw = scipy.sparse.load_npz(\"../../data/input/compressed/train_multi_inputs_raw_sp.npz\")"
   ]
  },
  {
   "cell_type": "code",
   "execution_count": null,
   "metadata": {},
   "outputs": [],
   "source": [
    "multi_raw_test = scipy.sparse.load_npz(\"../../data/input/compressed/test_multi_inputs_raw_sp.npz\")"
   ]
  },
  {
   "cell_type": "code",
   "execution_count": null,
   "metadata": {},
   "outputs": [],
   "source": []
  },
  {
   "cell_type": "code",
   "execution_count": null,
   "metadata": {},
   "outputs": [],
   "source": []
  },
  {
   "cell_type": "code",
   "execution_count": null,
   "metadata": {},
   "outputs": [],
   "source": [
    "from pydrive2.auth import GoogleAuth\n",
    "from pydrive2.drive import GoogleDrive\n",
    "\n",
    "gauth = GoogleAuth()\n",
    "gauth.LocalWebserverAuth()\n",
    "\n",
    "drive = GoogleDrive(gauth)"
   ]
  },
  {
   "cell_type": "code",
   "execution_count": null,
   "metadata": {},
   "outputs": [],
   "source": [
    "file_list = drive.ListFile({'q': \"'root' in parents and trashed=false\"}).GetList()\n",
    "for file1 in file_list:\n",
    "    if file1[\"title\"] == \"Data_Science\":\n",
    "        tmp = file1[\"id\"]\n",
    "        for i in drive.ListFile({\"q\": f\"'{tmp}' in parents and trashed=false\"}).GetList():\n",
    "            print(i[\"title\"])"
   ]
  },
  {
   "cell_type": "code",
   "execution_count": null,
   "metadata": {},
   "outputs": [],
   "source": [
    "file_list = drive.ListFile({'q': \"'1ztjUgAspIB3obX89K7QiEYq-mAr3MRrR/1-0tfygD0YnSo4FwULftzdGeXFcpQhNvj' in parents and trashed=false\"}).GetList()\n",
    "for file1 in file_list:\n",
    "    print(file1[\"title\"], file1[\"id\"])"
   ]
  },
  {
   "cell_type": "code",
   "execution_count": null,
   "metadata": {},
   "outputs": [],
   "source": [
    "import pandas as pd"
   ]
  },
  {
   "cell_type": "code",
   "execution_count": null,
   "metadata": {},
   "outputs": [],
   "source": [
    "a = pd.read_csv(\"../../data/output/sub_mlp_1115_final.csv\")"
   ]
  },
  {
   "cell_type": "code",
   "execution_count": null,
   "metadata": {},
   "outputs": [],
   "source": [
    "b = pd.read_csv(\"../../data/output/sub_mlp_all.csv\")"
   ]
  },
  {
   "cell_type": "code",
   "execution_count": null,
   "metadata": {},
   "outputs": [],
   "source": [
    "c = pd.read_csv(\"../../data/output/sub_mlp_final_all_1116.csv\")"
   ]
  },
  {
   "cell_type": "code",
   "execution_count": null,
   "metadata": {},
   "outputs": [],
   "source": [
    "a[\"all\"] = b[\"target\"]\n",
    "a[\"all_final\"] = c[\"target\"]"
   ]
  },
  {
   "cell_type": "code",
   "execution_count": null,
   "metadata": {},
   "outputs": [],
   "source": [
    "a = a.drop([\"row_id\"], axis=1)"
   ]
  },
  {
   "cell_type": "code",
   "execution_count": null,
   "metadata": {},
   "outputs": [],
   "source": [
    "a"
   ]
  },
  {
   "cell_type": "code",
   "execution_count": null,
   "metadata": {},
   "outputs": [],
   "source": [
    "a.corr()"
   ]
  },
  {
   "cell_type": "code",
   "execution_count": null,
   "metadata": {},
   "outputs": [],
   "source": [
    "a[6812820:].corr()"
   ]
  },
  {
   "cell_type": "code",
   "execution_count": null,
   "metadata": {},
   "outputs": [],
   "source": [
    "a[:6812820].corr()"
   ]
  },
  {
   "cell_type": "code",
   "execution_count": null,
   "metadata": {},
   "outputs": [],
   "source": [
    "a"
   ]
  },
  {
   "cell_type": "code",
   "execution_count": null,
   "metadata": {},
   "outputs": [],
   "source": [
    "import joblib"
   ]
  },
  {
   "cell_type": "code",
   "execution_count": null,
   "metadata": {},
   "outputs": [],
   "source": [
    "a = joblib.load(\"../../data/output/pred/cite/valid/mlp_cnn_1028.txt\")"
   ]
  },
  {
   "cell_type": "code",
   "execution_count": null,
   "metadata": {},
   "outputs": [],
   "source": [
    "b = joblib.load(\"../../data/output/pred/cite/valid/mlp_cnn_corr100_1028.txt\")"
   ]
  },
  {
   "cell_type": "code",
   "execution_count": null,
   "metadata": {},
   "outputs": [],
   "source": [
    "c = joblib.load(\"../../data/output/pred/cite/valid/mlp_cnn_corr100_corr500_ambrosm_trimap_raw_ridge_1028.txt\")"
   ]
  },
  {
   "cell_type": "code",
   "execution_count": null,
   "metadata": {},
   "outputs": [],
   "source": [
    "d = pd.read_csv(\"../../data/output/sub_best.csv\", nrows=5)"
   ]
  },
  {
   "cell_type": "code",
   "execution_count": null,
   "metadata": {},
   "outputs": [],
   "source": [
    "d"
   ]
  },
  {
   "cell_type": "code",
   "execution_count": null,
   "metadata": {},
   "outputs": [],
   "source": [
    "c[0][0]"
   ]
  },
  {
   "cell_type": "code",
   "execution_count": null,
   "metadata": {},
   "outputs": [],
   "source": [
    "a[0][0]"
   ]
  },
  {
   "cell_type": "code",
   "execution_count": null,
   "metadata": {},
   "outputs": [],
   "source": [
    "b[0][0]"
   ]
  },
  {
   "cell_type": "code",
   "execution_count": null,
   "metadata": {},
   "outputs": [],
   "source": [
    "a = pd.read_csv(\"../../data/output/multi/blending/mlp_cnn_1028_.csv\")"
   ]
  },
  {
   "cell_type": "code",
   "execution_count": null,
   "metadata": {},
   "outputs": [],
   "source": [
    "b = pd.read_csv(\"../../data/output/multi/blending/mlp_cnn_1028.csv\")"
   ]
  },
  {
   "cell_type": "code",
   "execution_count": null,
   "metadata": {},
   "outputs": [],
   "source": [
    "a[\"target2\"] = b[\"target\"]"
   ]
  },
  {
   "cell_type": "code",
   "execution_count": null,
   "metadata": {},
   "outputs": [],
   "source": [
    "a.corr()"
   ]
  },
  {
   "cell_type": "code",
   "execution_count": null,
   "metadata": {},
   "outputs": [],
   "source": [
    "pred = np.load(\"../../data/output/pred/cite/mlp_cnn_1028.npz\")"
   ]
  },
  {
   "cell_type": "code",
   "execution_count": null,
   "metadata": {},
   "outputs": [],
   "source": [
    "pred[]"
   ]
  },
  {
   "cell_type": "code",
   "execution_count": null,
   "metadata": {},
   "outputs": [],
   "source": [
    "valid_y = scipy.sparse.load_npz(\n",
    "    f\"../../data/input/compressed/train_{'cite'}_targets_values.sparse.npz\"\n",
    ")"
   ]
  },
  {
   "cell_type": "code",
   "execution_count": null,
   "metadata": {},
   "outputs": [],
   "source": [
    "train_X_idxcol = np.load(\n",
    "            \"../../data/input/compressed/train_cite_inputs_idxcol.npz\", allow_pickle=True\n",
    "        )\n",
    "\n",
    "metadata = pd.read_csv(\"../../data/input/metadata.csv\", index_col=\"cell_id\")\n",
    "\n",
    "# reindex metadata\n",
    "train_metadata = metadata.reindex(train_X_idxcol[\"index\"])"
   ]
  },
  {
   "cell_type": "code",
   "execution_count": null,
   "metadata": {},
   "outputs": [],
   "source": [
    "train_metadata = train_metadata.reset_index()"
   ]
  },
  {
   "cell_type": "code",
   "execution_count": null,
   "metadata": {},
   "outputs": [],
   "source": [
    "train_metadata[\"donor\"].unique()"
   ]
  },
  {
   "cell_type": "code",
   "execution_count": null,
   "metadata": {},
   "outputs": [],
   "source": [
    "index = train_metadata[train_metadata[\"donor\"]==31800].index"
   ]
  },
  {
   "cell_type": "code",
   "execution_count": null,
   "metadata": {},
   "outputs": [],
   "source": [
    "valid_y_2 = valid_y[index]"
   ]
  },
  {
   "cell_type": "code",
   "execution_count": null,
   "metadata": {},
   "outputs": [],
   "source": [
    "valid_y_2.shape"
   ]
  },
  {
   "cell_type": "code",
   "execution_count": null,
   "metadata": {},
   "outputs": [],
   "source": [
    "import joblib"
   ]
  },
  {
   "cell_type": "code",
   "execution_count": null,
   "metadata": {},
   "outputs": [],
   "source": [
    "tes = joblib.load(\"../../data/output/pred/cite/mlp_cnn_corr_100_1028.txt\")"
   ]
  },
  {
   "cell_type": "code",
   "execution_count": null,
   "metadata": {},
   "outputs": [],
   "source": [
    "tes"
   ]
  },
  {
   "cell_type": "code",
   "execution_count": null,
   "metadata": {},
   "outputs": [],
   "source": [
    "tes"
   ]
  },
  {
   "cell_type": "code",
   "execution_count": null,
   "metadata": {},
   "outputs": [],
   "source": [
    "len(tes)"
   ]
  },
  {
   "cell_type": "code",
   "execution_count": null,
   "metadata": {},
   "outputs": [],
   "source": [
    "tes[0].shape"
   ]
  },
  {
   "cell_type": "code",
   "execution_count": null,
   "metadata": {},
   "outputs": [],
   "source": [
    "def correlation_score(y_true, y_pred):\n",
    "    if type(y_true) == pd.DataFrame:\n",
    "        y_true = y_true.values\n",
    "    if type(y_pred) == pd.DataFrame:\n",
    "        y_pred = y_pred.values\n",
    "    corrsum = 0\n",
    "    for i in range(len(y_true)):\n",
    "        corrsum += np.corrcoef(y_true[i], y_pred[i])[1, 0]\n",
    "    return corrsum / len(y_true)"
   ]
  },
  {
   "cell_type": "code",
   "execution_count": null,
   "metadata": {},
   "outputs": [],
   "source": [
    "corr = correlation_score(valid_y_2.todense(), tes[0])"
   ]
  },
  {
   "cell_type": "code",
   "execution_count": null,
   "metadata": {},
   "outputs": [],
   "source": [
    "corr"
   ]
  },
  {
   "cell_type": "code",
   "execution_count": null,
   "metadata": {},
   "outputs": [],
   "source": [
    "corr"
   ]
  },
  {
   "cell_type": "code",
   "execution_count": null,
   "metadata": {},
   "outputs": [],
   "source": [
    "mlp_cnn_dayss = pd.read_csv(\"../../data/output/multi/blending/mlp_cnn_dayss.csv\")"
   ]
  },
  {
   "cell_type": "code",
   "execution_count": null,
   "metadata": {},
   "outputs": [],
   "source": [
    "mlp_cnn_dayss.dropna()"
   ]
  },
  {
   "cell_type": "code",
   "execution_count": null,
   "metadata": {},
   "outputs": [],
   "source": [
    "mlp_cnn_dayss[6812820:]"
   ]
  },
  {
   "cell_type": "code",
   "execution_count": null,
   "metadata": {},
   "outputs": [],
   "source": [
    "svd_dim = 64"
   ]
  },
  {
   "cell_type": "code",
   "execution_count": null,
   "metadata": {},
   "outputs": [],
   "source": [
    "svd_train_X_values = scipy.sparse.load_npz(\n",
    "    f\"../../data/input/svd/svd_train_cite_inputs_values_{svd_dim}.npz\"\n",
    ")\n",
    "svd_test_X_values = scipy.sparse.load_npz(\n",
    "    f\"../../data/input/svd/svd_test_cite_inputs_values_{svd_dim}.npz\"\n",
    ")\n",
    "umap = pd.read_csv(\n",
    "    \"../../data/input/map/citeseq_UMAPfromPCA500_n_components50_n_neighbors5_min_dist0d9_rs42.csv\"\n",
    ")\n",
    "umap_train_X_values = umap[:70988].drop([\"cell_id\"], axis=1)\n",
    "umap_test_X_values = umap[70988:].drop([\"cell_id\"], axis=1)\n",
    "train_X_values = scipy.sparse.hstack(\n",
    "    [svd_train_X_values, umap_train_X_values], format=\"csr\"\n",
    ")\n",
    "test_X_values = scipy.sparse.hstack(\n",
    "    [svd_test_X_values, umap_test_X_values], format=\"csr\"\n",
    ")"
   ]
  },
  {
   "cell_type": "code",
   "execution_count": null,
   "metadata": {},
   "outputs": [],
   "source": [
    "train_X_values"
   ]
  },
  {
   "cell_type": "code",
   "execution_count": null,
   "metadata": {},
   "outputs": [],
   "source": [
    "umap = pd.read_csv(\n",
    "    \"../../data/input/map/multiome_UMAPfromPCA500_n_components100_n_neighbors5_min_dist0d9_rs42.csv\")"
   ]
  },
  {
   "cell_type": "code",
   "execution_count": null,
   "metadata": {},
   "outputs": [],
   "source": [
    "umap"
   ]
  },
  {
   "cell_type": "code",
   "execution_count": null,
   "metadata": {},
   "outputs": [],
   "source": [
    "umap.drop([\"Unnamed: 0\"], axis=1)"
   ]
  },
  {
   "cell_type": "code",
   "execution_count": null,
   "metadata": {},
   "outputs": [],
   "source": [
    "metadata = pd.read_csv(\"../../data/input/metadata.csv\", index_col=\"cell_id\")"
   ]
  },
  {
   "cell_type": "code",
   "execution_count": null,
   "metadata": {},
   "outputs": [],
   "source": [
    "train_X_values = scipy.sparse.load_npz(\n",
    "    \"../../data/input/compressed/train_cite_inputs_values.sparse.npz\"\n",
    ")"
   ]
  },
  {
   "cell_type": "code",
   "execution_count": null,
   "metadata": {},
   "outputs": [],
   "source": [
    "pd.read_csv(\"../../data/input/map/multiome_TRIMAPfromPCA500_n_components50.csv\")[:105942]"
   ]
  },
  {
   "cell_type": "code",
   "execution_count": null,
   "metadata": {},
   "outputs": [],
   "source": [
    "len(train_X_idxcol[\"index\"])"
   ]
  },
  {
   "cell_type": "code",
   "execution_count": null,
   "metadata": {},
   "outputs": [],
   "source": [
    "test_X_idxcol[\"index\"]"
   ]
  },
  {
   "cell_type": "code",
   "execution_count": null,
   "metadata": {},
   "outputs": [],
   "source": [
    "train_X_idxcol = np.load(\n",
    "    \"../../data/input/compressed/train_multi_inputs_idxcol.npz\", allow_pickle=True\n",
    ")\n",
    "test_X_idxcol = np.load(\n",
    "    \"../../data/input/compressed/test_multi_inputs_idxcol.npz\", allow_pickle=True\n",
    ")"
   ]
  },
  {
   "cell_type": "code",
   "execution_count": null,
   "metadata": {},
   "outputs": [],
   "source": [
    "train_metadata = metadata.reindex(train_X_idxcol[\"index\"])\n",
    "test_metadata = metadata.reindex(test_X_idxcol[\"index\"])"
   ]
  },
  {
   "cell_type": "code",
   "execution_count": null,
   "metadata": {},
   "outputs": [],
   "source": [
    "train_metadata[\"day\"].unique()"
   ]
  },
  {
   "cell_type": "code",
   "execution_count": null,
   "metadata": {},
   "outputs": [],
   "source": [
    "test_metadata[\"day\"].unique()"
   ]
  },
  {
   "cell_type": "code",
   "execution_count": null,
   "metadata": {},
   "outputs": [],
   "source": [
    "len(train_X_values[(train_metadata[\"day\"]==2) & (train_metadata[\"donor\"]==27678)].todense())"
   ]
  },
  {
   "cell_type": "code",
   "execution_count": null,
   "metadata": {},
   "outputs": [],
   "source": [
    "a = {}"
   ]
  },
  {
   "cell_type": "code",
   "execution_count": null,
   "metadata": {},
   "outputs": [],
   "source": [
    "a[\"b\"] = 1"
   ]
  },
  {
   "cell_type": "code",
   "execution_count": null,
   "metadata": {},
   "outputs": [],
   "source": [
    "day = 7\n",
    "donor = \"unko\""
   ]
  },
  {
   "cell_type": "code",
   "execution_count": null,
   "metadata": {},
   "outputs": [],
   "source": [
    "a[f\"{day}_{donor}\"] = 1"
   ]
  },
  {
   "cell_type": "code",
   "execution_count": null,
   "metadata": {},
   "outputs": [],
   "source": [
    "a"
   ]
  },
  {
   "cell_type": "code",
   "execution_count": null,
   "metadata": {},
   "outputs": [],
   "source": [
    "from sklearn.preprocessing import StandardScaler"
   ]
  },
  {
   "cell_type": "code",
   "execution_count": null,
   "metadata": {},
   "outputs": [],
   "source": [
    "# day2\n",
    "ss = StandardScaler(with_mean=False)\n",
    "train_y_values_day2 = ss.fit_transform(train_y_values_day2)\n",
    "# day3\n",
    "ss = StandardScaler(with_mean=False)\n",
    "train_y_values_day3 = ss.fit_transform(train_y_values_day3)\n",
    "# day4\n",
    "ss = StandardScaler(with_mean=False)\n",
    "train_y_values_day4 = ss.fit_transform(train_y_values_day4)\n",
    "# day7\n",
    "ss = StandardScaler(with_mean=False)\n",
    "train_y_values_day4 = ss.fit_transform(train_y_values_day7)"
   ]
  },
  {
   "cell_type": "code",
   "execution_count": null,
   "metadata": {},
   "outputs": [],
   "source": [
    "train_y_values[train_metadata[\"day\"]==2] = train_y_values_day2\n",
    "train_y_values[train_metadata[\"day\"]==3] = train_y_values_day3\n",
    "train_y_values[train_metadata[\"day\"]==4] = train_y_values_day4\n",
    "train_y_values[train_metadata[\"day\"]==7] = train_y_values_day7"
   ]
  },
  {
   "cell_type": "code",
   "execution_count": null,
   "metadata": {},
   "outputs": [],
   "source": [
    "train_metadata"
   ]
  },
  {
   "cell_type": "code",
   "execution_count": null,
   "metadata": {},
   "outputs": [],
   "source": [
    "train_y_values"
   ]
  },
  {
   "cell_type": "code",
   "execution_count": null,
   "metadata": {},
   "outputs": [],
   "source": [
    "test_X_values.todense()"
   ]
  },
  {
   "cell_type": "code",
   "execution_count": null,
   "metadata": {},
   "outputs": [],
   "source": [
    "train_metadata[\"day\"]==2"
   ]
  },
  {
   "cell_type": "code",
   "execution_count": null,
   "metadata": {},
   "outputs": [],
   "source": [
    "train_X_values"
   ]
  },
  {
   "cell_type": "code",
   "execution_count": null,
   "metadata": {},
   "outputs": [],
   "source": [
    "train_X_values[train_metadata[\"day\"]==2] = 0"
   ]
  },
  {
   "cell_type": "code",
   "execution_count": null,
   "metadata": {},
   "outputs": [],
   "source": [
    "train_X_values.todense()"
   ]
  },
  {
   "cell_type": "code",
   "execution_count": null,
   "metadata": {},
   "outputs": [],
   "source": [
    "train_X_values.todense()"
   ]
  },
  {
   "cell_type": "code",
   "execution_count": null,
   "metadata": {},
   "outputs": [],
   "source": []
  },
  {
   "cell_type": "code",
   "execution_count": null,
   "metadata": {},
   "outputs": [],
   "source": [
    "best = pd.read_csv(\"../../data\\output/sub_ensemble_pub_umap10_totyu.csv\")"
   ]
  },
  {
   "cell_type": "code",
   "execution_count": null,
   "metadata": {},
   "outputs": [],
   "source": [
    "blending = pd.read_csv(\"../../data\\output\\sub_mlp_umap10_blendingtotyu.csv\")"
   ]
  },
  {
   "cell_type": "code",
   "execution_count": null,
   "metadata": {},
   "outputs": [],
   "source": [
    "pub = pd.read_csv(\"../../data\\output\\sub_best.csv\")"
   ]
  },
  {
   "cell_type": "code",
   "execution_count": null,
   "metadata": {},
   "outputs": [],
   "source": [
    "df = best.copy()\n",
    "df[\"pub\"] = pub[\"target\"]\n",
    "df[\"blending\"] = blending[\"target\"]\n",
    "df[\"pub2\"] = blending[\"target\"] + pub[\"target\"] * 0.1"
   ]
  },
  {
   "cell_type": "code",
   "execution_count": null,
   "metadata": {},
   "outputs": [],
   "source": [
    "df = df.drop([\"row_id\"], axis=1)"
   ]
  },
  {
   "cell_type": "code",
   "execution_count": null,
   "metadata": {},
   "outputs": [],
   "source": [
    "df[:6812820].corr()"
   ]
  },
  {
   "cell_type": "code",
   "execution_count": null,
   "metadata": {},
   "outputs": [],
   "source": [
    "df[6812820:].corr()"
   ]
  },
  {
   "cell_type": "code",
   "execution_count": null,
   "metadata": {},
   "outputs": [],
   "source": [
    "df.corr()"
   ]
  },
  {
   "cell_type": "code",
   "execution_count": null,
   "metadata": {},
   "outputs": [],
   "source": [
    "df[\"pub\"]"
   ]
  },
  {
   "cell_type": "code",
   "execution_count": null,
   "metadata": {},
   "outputs": [],
   "source": [
    "df[\"target\"]"
   ]
  },
  {
   "cell_type": "code",
   "execution_count": null,
   "metadata": {},
   "outputs": [],
   "source": [
    "df[\"pub_best\"][-5:]"
   ]
  },
  {
   "cell_type": "code",
   "execution_count": null,
   "metadata": {},
   "outputs": [],
   "source": [
    "df[\"pub\"][-5:]"
   ]
  },
  {
   "cell_type": "code",
   "execution_count": null,
   "metadata": {},
   "outputs": [],
   "source": [
    "import matplotlib.pyplot as plt"
   ]
  },
  {
   "cell_type": "code",
   "execution_count": null,
   "metadata": {},
   "outputs": [],
   "source": [
    "plt.plot(np.histogram(blending[\"target\"], bins=1000)[0])"
   ]
  },
  {
   "cell_type": "code",
   "execution_count": null,
   "metadata": {},
   "outputs": [],
   "source": []
  },
  {
   "cell_type": "code",
   "execution_count": null,
   "metadata": {},
   "outputs": [],
   "source": []
  },
  {
   "cell_type": "code",
   "execution_count": null,
   "metadata": {},
   "outputs": [],
   "source": [
    "%store"
   ]
  },
  {
   "cell_type": "code",
   "execution_count": null,
   "metadata": {},
   "outputs": [],
   "source": [
    "%store -r"
   ]
  },
  {
   "cell_type": "code",
   "execution_count": null,
   "metadata": {},
   "outputs": [],
   "source": [
    "len(cite_avg_abs_corr_01)"
   ]
  },
  {
   "cell_type": "code",
   "execution_count": null,
   "metadata": {},
   "outputs": [],
   "source": []
  },
  {
   "cell_type": "code",
   "execution_count": null,
   "metadata": {},
   "outputs": [],
   "source": [
    "mlp = pd.read_csv(\"../../data\\output\\sub_mlp_noday_important2.csv\")"
   ]
  },
  {
   "cell_type": "code",
   "execution_count": null,
   "metadata": {},
   "outputs": [],
   "source": [
    "cnn = pd.read_csv(\"../../data\\output\\sub_mlp_noday_1dcnn.csv\")"
   ]
  },
  {
   "cell_type": "code",
   "execution_count": null,
   "metadata": {},
   "outputs": [],
   "source": [
    "cnn[-5:]"
   ]
  },
  {
   "cell_type": "code",
   "execution_count": null,
   "metadata": {},
   "outputs": [],
   "source": [
    "pub = pd.read_csv(\"../../data\\output\\sub_best.csv\")"
   ]
  },
  {
   "cell_type": "code",
   "execution_count": null,
   "metadata": {},
   "outputs": [],
   "source": [
    "desuyo = pd.read_csv(\"../../data\\output\\desuyo.csv\")"
   ]
  },
  {
   "cell_type": "code",
   "execution_count": null,
   "metadata": {},
   "outputs": [],
   "source": [
    "gotyamaze = pd.read_csv(\"../../data\\output/sub_ensemble_noday_gotyamaze.csv\")"
   ]
  },
  {
   "cell_type": "code",
   "execution_count": null,
   "metadata": {},
   "outputs": [],
   "source": [
    "df = mlp[:6812820].copy()"
   ]
  },
  {
   "cell_type": "code",
   "execution_count": null,
   "metadata": {},
   "outputs": [],
   "source": [
    "df[\"cnn\"] = cnn[\"target\"][:6812820]"
   ]
  },
  {
   "cell_type": "code",
   "execution_count": null,
   "metadata": {},
   "outputs": [],
   "source": [
    "df[\"public\"] = pub[\"target\"][:6812820]"
   ]
  },
  {
   "cell_type": "code",
   "execution_count": null,
   "metadata": {},
   "outputs": [],
   "source": [
    "df[\"desuyo\"] = desuyo[\"target\"][:6812820]"
   ]
  },
  {
   "cell_type": "code",
   "execution_count": null,
   "metadata": {},
   "outputs": [],
   "source": [
    "df[\"gotyamaze\"] = gotyamaze[\"target\"][:6812820]"
   ]
  },
  {
   "cell_type": "code",
   "execution_count": null,
   "metadata": {},
   "outputs": [],
   "source": [
    "df = df.drop([\"row_id\"], axis=1)"
   ]
  },
  {
   "cell_type": "code",
   "execution_count": null,
   "metadata": {},
   "outputs": [],
   "source": [
    "df.corr(method=\"pearson\")"
   ]
  },
  {
   "cell_type": "code",
   "execution_count": null,
   "metadata": {},
   "outputs": [],
   "source": [
    "df[6812820:].corr(method=\"pearson\")"
   ]
  },
  {
   "cell_type": "code",
   "execution_count": null,
   "metadata": {},
   "outputs": [],
   "source": [
    "df.corr(method=\"pearson\")"
   ]
  },
  {
   "cell_type": "code",
   "execution_count": null,
   "metadata": {},
   "outputs": [],
   "source": [
    "metadata = pd.read_csv(\"../../data/input/metadata.csv\", index_col=\"cell_id\")"
   ]
  },
  {
   "cell_type": "code",
   "execution_count": null,
   "metadata": {},
   "outputs": [],
   "source": [
    "train_X_idxcol = np.load(\"../../data/input/compressed/train_multi_inputs_idxcol.npz\", allow_pickle=True)"
   ]
  },
  {
   "cell_type": "code",
   "execution_count": null,
   "metadata": {},
   "outputs": [],
   "source": [
    "train_metadata = metadata.reindex(train_X_idxcol[\"index\"])"
   ]
  },
  {
   "cell_type": "code",
   "execution_count": null,
   "metadata": {},
   "outputs": [],
   "source": [
    "train_metadata"
   ]
  },
  {
   "cell_type": "code",
   "execution_count": null,
   "metadata": {},
   "outputs": [],
   "source": [
    "train_metadata[(train_metadata[\"day\"]!=7) & (train_metadata[\"donor\"]!=32606)]"
   ]
  },
  {
   "cell_type": "code",
   "execution_count": null,
   "metadata": {},
   "outputs": [],
   "source": [
    "train_metadata[train_metadata[\"day\"]==7]"
   ]
  },
  {
   "cell_type": "code",
   "execution_count": null,
   "metadata": {},
   "outputs": [],
   "source": [
    "metadata = pd.read_csv(\"../../data/input/metadata.csv\", index_col=\"cell_id\")"
   ]
  },
  {
   "cell_type": "code",
   "execution_count": null,
   "metadata": {},
   "outputs": [],
   "source": [
    "train_X_idxcol = np.load(\"../../data/input/compressed/train_cite_inputs_idxcol.npz\", allow_pickle=True)"
   ]
  },
  {
   "cell_type": "code",
   "execution_count": null,
   "metadata": {},
   "outputs": [],
   "source": [
    "train_metadata = metadata.reindex(train_X_idxcol[\"index\"])"
   ]
  },
  {
   "cell_type": "code",
   "execution_count": null,
   "metadata": {},
   "outputs": [],
   "source": [
    "train_metadata"
   ]
  },
  {
   "cell_type": "code",
   "execution_count": null,
   "metadata": {},
   "outputs": [],
   "source": [
    "train_metadata[train_metadata[\"day\"]==4]"
   ]
  },
  {
   "cell_type": "code",
   "execution_count": null,
   "metadata": {},
   "outputs": [],
   "source": [
    "train_metadata[train_metadata[\"day\"]!=4]"
   ]
  },
  {
   "cell_type": "code",
   "execution_count": null,
   "metadata": {},
   "outputs": [],
   "source": [
    "train_X_idxcol"
   ]
  },
  {
   "cell_type": "code",
   "execution_count": null,
   "metadata": {},
   "outputs": [],
   "source": [
    "metadata = pd.read_csv(\"../../data/input/metadata.csv\", index_col=\"cell_id\")"
   ]
  },
  {
   "cell_type": "code",
   "execution_count": null,
   "metadata": {},
   "outputs": [],
   "source": [
    "metadata[metadata[\"day\"]==7]"
   ]
  },
  {
   "cell_type": "code",
   "execution_count": null,
   "metadata": {},
   "outputs": [],
   "source": [
    "me"
   ]
  },
  {
   "cell_type": "markdown",
   "metadata": {},
   "source": [
    "# zeroにするはなし"
   ]
  },
  {
   "cell_type": "code",
   "execution_count": null,
   "metadata": {},
   "outputs": [],
   "source": [
    "raw_train_X_values = scipy.sparse.load_npz(\n",
    "    \"../../data/input/compressed/train_cite_inputs_values.sparse.npz\"\n",
    "            )\n",
    "raw_test_X_values = scipy.sparse.load_npz(\n",
    "    \"../../data/input/compressed/test_cite_inputs_values.sparse.npz\"\n",
    ")"
   ]
  },
  {
   "cell_type": "code",
   "execution_count": null,
   "metadata": {},
   "outputs": [],
   "source": [
    "train_X_idxcol = np.load(\n",
    "    \"../../data/input/compressed/train_cite_inputs_idxcol.npz\", allow_pickle=True\n",
    ")"
   ]
  },
  {
   "cell_type": "code",
   "execution_count": null,
   "metadata": {},
   "outputs": [],
   "source": [
    "col_idx = []\n",
    "for i, c in enumerate(train_X_idxcol[\"columns\"]):\n",
    "    if c in important_cols:\n",
    "        col_idx.append(i)"
   ]
  },
  {
   "cell_type": "code",
   "execution_count": null,
   "metadata": {},
   "outputs": [],
   "source": [
    "(raw_train_X_values[:, col_idx].todense() == 0).all(axis=0)"
   ]
  },
  {
   "cell_type": "code",
   "execution_count": null,
   "metadata": {},
   "outputs": [],
   "source": [
    "# AMBROSM\n",
    "important = \"important\"\n",
    "important_cols = [\n",
    "\"ENSG00000114013_CD86\",\n",
    "\"ENSG00000120217_CD274\",\n",
    "\"ENSG00000196776_CD47\",\n",
    "\"ENSG00000117091_CD48\",\n",
    "\"ENSG00000101017_CD40\",\n",
    "\"ENSG00000102245_CD40LG\",\n",
    "\"ENSG00000169442_CD52\",\n",
    "\"ENSG00000117528_ABCD3\",\n",
    "\"ENSG00000168014_C2CD3\",\n",
    "\"ENSG00000167851_CD300A\",\n",
    "\"ENSG00000167850_CD300C\",\n",
    "\"ENSG00000186407_CD300E\",\n",
    "\"ENSG00000178789_CD300LB\",\n",
    "\"ENSG00000186074_CD300LF\",\n",
    "\"ENSG00000241399_CD302\",\n",
    "\"ENSG00000167775_CD320\",\n",
    "\"ENSG00000105383_CD33\",\n",
    "\"ENSG00000174059_CD34\",\n",
    "\"ENSG00000135218_CD36\",\n",
    "\"ENSG00000104894_CD37\",\n",
    "\"ENSG00000004468_CD38\",\n",
    "\"ENSG00000167286_CD3D\",\n",
    "\"ENSG00000198851_CD3E\",\n",
    "\"ENSG00000117877_CD3EAP\",\n",
    "\"ENSG00000074696_HACD3\",\n",
    "\"ENSG00000015676_NUDCD3\",\n",
    "\"ENSG00000161714_PLCD3\",\n",
    "\"ENSG00000132300_PTCD3\",\n",
    "\"ENSG00000082014_SMARCD3\",\n",
    "\"ENSG00000121594_CD80\",\n",
    "\"ENSG00000110651_CD81\",\n",
    "\"ENSG00000238184_CD81-AS1\",\n",
    "\"ENSG00000085117_CD82\",\n",
    "\"ENSG00000112149_CD83\",\n",
    "\"ENSG00000066294_CD84\",\n",
    "\"ENSG00000114013_CD86\",\n",
    "\"ENSG00000172116_CD8B\",\n",
    "\"ENSG00000254126_CD8B2\",\n",
    "\"ENSG00000177455_CD19\",\n",
    "\"ENSG00000105383_CD33\",\n",
    "\"ENSG00000173762_CD7\",\n",
    "\"ENSG00000125726_CD70\",\n",
    "\"ENSG00000137101_CD72\",\n",
    "\"ENSG00000019582_CD74\",\n",
    "\"ENSG00000105369_CD79A\",\n",
    "\"ENSG00000007312_CD79B\",\n",
    "\"ENSG00000090470_PDCD7\",\n",
    "\"ENSG00000119688_ABCD4\",\n",
    "\"ENSG00000010610_CD4\",\n",
    "\"ENSG00000101017_CD40\",\n",
    "\"ENSG00000102245_CD40LG\",\n",
    "\"ENSG00000026508_CD44\",\n",
    "\"ENSG00000117335_CD46\",\n",
    "\"ENSG00000196776_CD47\",\n",
    "\"ENSG00000117091_CD48\",\n",
    "\"ENSG00000188921_HACD4\",\n",
    "\"ENSG00000150593_PDCD4\",\n",
    "\"ENSG00000203497_PDCD4-AS1\",\n",
    "\"ENSG00000115556_PLCD4\",\n",
    "\"ENSG00000026508_CD44\",\n",
    "\"ENSG00000170458_CD14\",\n",
    "\"ENSG00000117281_CD160\",\n",
    "\"ENSG00000177575_CD163\",\n",
    "\"ENSG00000135535_CD164\",\n",
    "\"ENSG00000091972_CD200\",\n",
    "\"ENSG00000163606_CD200R1\",\n",
    "\"ENSG00000206531_CD200R1L\",\n",
    "\"ENSG00000182685_BRICD5\",\n",
    "\"ENSG00000111731_C2CD5\",\n",
    "\"ENSG00000169442_CD52\",\n",
    "\"ENSG00000143119_CD53\",\n",
    "\"ENSG00000196352_CD55\",\n",
    "\"ENSG00000116815_CD58\",\n",
    "\"ENSG00000085063_CD59\",\n",
    "\"ENSG00000105185_PDCD5\",\n",
    "\"ENSG00000255909_PDCD5P1\",\n",
    "\"ENSG00000145284_SCD5\",\n",
    "\"ENSG00000167775_CD320\",\n",
    "\"ENSG00000110848_CD69\",\n",
    "\"ENSG00000139187_KLRG1\",\n",
    "\"ENSG00000139193_CD27\",\n",
    "\"ENSG00000215039_CD27-AS1\",\n",
    "\"ENSG00000120217_CD274\",\n",
    "\"ENSG00000103855_CD276\",\n",
    "\"ENSG00000204287_HLA-DRA\",\n",
    "\"ENSG00000196126_HLA-DRB1\",\n",
    "\"ENSG00000198502_HLA-DRB5\",\n",
    "\"ENSG00000229391_HLA-DRB6\",\n",
    "\"ENSG00000116815_CD58\",\n",
    "\"ENSG00000168329_CX3CR1\",\n",
    "\"ENSG00000272398_CD24\",\n",
    "\"ENSG00000122223_CD244\",\n",
    "\"ENSG00000198821_CD247\",\n",
    "\"ENSG00000122223_CD244\",\n",
    "\"ENSG00000177575_CD163\",\n",
    "\"ENSG00000112149_CD83\",\n",
    "\"ENSG00000185963_BICD2\",\n",
    "\"ENSG00000157617_C2CD2\",\n",
    "\"ENSG00000172375_C2CD2L\",\n",
    "\"ENSG00000116824_CD2\",\n",
    "\"ENSG00000091972_CD200\",\n",
    "\"ENSG00000163606_CD200R1\",\n",
    "\"ENSG00000206531_CD200R1L\",\n",
    "\"ENSG00000012124_CD22\",\n",
    "\"ENSG00000150637_CD226\",\n",
    "\"ENSG00000272398_CD24\",\n",
    "\"ENSG00000122223_CD244\",\n",
    "\"ENSG00000198821_CD247\",\n",
    "\"ENSG00000139193_CD27\",\n",
    "\"ENSG00000215039_CD27-AS1\",\n",
    "\"ENSG00000120217_CD274\",\n",
    "\"ENSG00000103855_CD276\",\n",
    "\"ENSG00000198087_CD2AP\",\n",
    "\"ENSG00000169217_CD2BP2\",\n",
    "\"ENSG00000144554_FANCD2\",\n",
    "\"ENSG00000206527_HACD2\",\n",
    "\"ENSG00000170584_NUDCD2\",\n",
    "\"ENSG00000071994_PDCD2\",\n",
    "\"ENSG00000126249_PDCD2L\",\n",
    "\"ENSG00000049883_PTCD2\",\n",
    "\"ENSG00000186193_SAPCD2\",\n",
    "\"ENSG00000108604_SMARCD2\",\n",
    "\"ENSG00000185561_TLCD2\",\n",
    "\"ENSG00000075035_WSCD2\",\n",
    "\"ENSG00000150637_CD226\",\n",
    "\"ENSG00000110651_CD81\",\n",
    "\"ENSG00000238184_CD81-AS1\",\n",
    "\"ENSG00000134061_CD180\",\n",
    "\"ENSG00000004468_CD38\",\n",
    "\"ENSG00000012124_CD22\",\n",
    "\"ENSG00000150637_CD226\",\n",
    "\"ENSG00000135404_CD63\",\n",
    "\"ENSG00000135218_CD36\",\n",
    "\"ENSG00000137101_CD72\",\n",
    "\"ENSG00000125810_CD93\",\n",
    "\"ENSG00000010278_CD9\",\n",
    "\"ENSG00000125810_CD93\",\n",
    "\"ENSG00000153283_CD96\",\n",
    "\"ENSG00000002586_CD99\",\n",
    "\"ENSG00000102181_CD99L2\",\n",
    "\"ENSG00000223773_CD99P1\",\n",
    "\"ENSG00000204592_HLA-E\",\n",
    "\"ENSG00000085117_CD82\",\n",
    "\"ENSG00000134256_CD101\",\n",
    "]"
   ]
  },
  {
   "cell_type": "code",
   "execution_count": null,
   "metadata": {},
   "outputs": [],
   "source": [
    "columns = important_cols"
   ]
  },
  {
   "cell_type": "code",
   "execution_count": null,
   "metadata": {},
   "outputs": [],
   "source": [
    "columns = [\"columns\"]"
   ]
  },
  {
   "cell_type": "code",
   "execution_count": null,
   "metadata": {},
   "outputs": [],
   "source": [
    "zerolist = list(columns[np.array(((train_y_values.todense() == 0).all(axis=0))).flatten()])"
   ]
  },
  {
   "cell_type": "code",
   "execution_count": null,
   "metadata": {},
   "outputs": [],
   "source": [
    "zero_id = a[a[\"gene_id\"].isin(zerolist)][\"row_id\"]"
   ]
  },
  {
   "cell_type": "code",
   "execution_count": null,
   "metadata": {},
   "outputs": [],
   "source": [
    "len(zerolist)"
   ]
  },
  {
   "cell_type": "code",
   "execution_count": null,
   "metadata": {},
   "outputs": [],
   "source": [
    "ok = pd.read_csv(\"../../data\\output\\sub_mlp_noday_dropout_1dcnn.csv\")"
   ]
  },
  {
   "cell_type": "code",
   "execution_count": null,
   "metadata": {},
   "outputs": [],
   "source": [
    "train_y_values.todense()"
   ]
  },
  {
   "cell_type": "code",
   "execution_count": null,
   "metadata": {},
   "outputs": [],
   "source": [
    "ok.iloc[zero_id]"
   ]
  },
  {
   "cell_type": "code",
   "execution_count": null,
   "metadata": {},
   "outputs": [],
   "source": [
    "pub.iloc[zero_id]"
   ]
  },
  {
   "cell_type": "code",
   "execution_count": null,
   "metadata": {},
   "outputs": [],
   "source": [
    "pub[pub[\"row_id\"]==zero_id]"
   ]
  },
  {
   "cell_type": "code",
   "execution_count": null,
   "metadata": {},
   "outputs": [],
   "source": [
    "train_y_values.todense().shape"
   ]
  },
  {
   "cell_type": "code",
   "execution_count": null,
   "metadata": {},
   "outputs": [],
   "source": [
    "(train_y_values.todense() == 0).all(axis=0)"
   ]
  },
  {
   "cell_type": "code",
   "execution_count": null,
   "metadata": {},
   "outputs": [],
   "source": [
    "(train_y_values == 0)"
   ]
  },
  {
   "cell_type": "code",
   "execution_count": null,
   "metadata": {},
   "outputs": [],
   "source": [
    "np.array((train_y_values == 0).todense().all(axis=0)).flatten()"
   ]
  },
  {
   "cell_type": "code",
   "execution_count": null,
   "metadata": {},
   "outputs": [],
   "source": []
  },
  {
   "cell_type": "code",
   "execution_count": null,
   "metadata": {},
   "outputs": [],
   "source": []
  },
  {
   "cell_type": "code",
   "execution_count": null,
   "metadata": {},
   "outputs": [],
   "source": [
    "# cite_train_X = pd.read_hdf(\"../../data/input/train_cite_inputs.h5\")\n",
    "cite_train_X_values = scipy.sparse.load_npz(\"../../data/input/compressed/train_cite_inputs_values.sparse.npz\")\n",
    "cite_test_X_values = scipy.sparse.load_npz(\"../../data/input/compressed/test_cite_inputs_values.sparse.npz\")"
   ]
  },
  {
   "cell_type": "code",
   "execution_count": null,
   "metadata": {},
   "outputs": [],
   "source": [
    "cite_train_X_idxcol = np.load(\"../../data/input/compressed/train_cite_inputs_idxcol.npz\", allow_pickle=True)\n",
    "cite_test_X_idxcol = np.load(\"../../data/input/compressed/test_cite_inputs_idxcol.npz\", allow_pickle=True)"
   ]
  },
  {
   "cell_type": "code",
   "execution_count": null,
   "metadata": {},
   "outputs": [],
   "source": [
    "metadata_2 = pd.read_csv(\"../../data/input/metadata_cite_day_2_donor_27678.csv\")\n",
    "test_X_2 = pd.read_hdf(\"../../data/input/test_cite_inputs_day_2_donor_27678.h5\").drop([\"ENSG00000255655_AC007570.1\", \"ENSG00000213237_AC008155.1\", \"ENSG00000273398_AC017083.3\", \"ENSG00000233849_AC022201.2\", \"ENSG00000231401_AC023481.1\", \"ENSG00000263126_AC040162.3\", \"ENSG00000285876_AC093912.1\", \"ENSG00000275585_AC241377.2\", \"ENSG00000272175_AL050343.2\", \"ENSG00000232290_AL133260.2\", \"ENSG00000267559_AL158154.2\", \"ENSG00000273481_AL391069.4\", \"ENSG00000161609_CCDC155\", \"ENSG00000150394_CDH8\", \"ENSG00000233932_CTXN2\", \"ENSG00000198077_CYP2A7\", \"ENSG00000220871_DNAJC19P6\", \"ENSG00000267336_EIF4A2P1\", \"ENSG00000251254_GTF2F2P1\", \"ENSG00000225978_HAR1A\", \"ENSG00000131097_HIGD1B\", \"ENSG00000211897_IGHG3\", \"ENSG00000233080_LINC01399\", \"ENSG00000236849_LINC01474\", \"ENSG00000269904_MAP2K4P1\", \"ENSG00000266698_MIR3945\", \"ENSG00000144227_NXPH2\", \"ENSG00000182057_OGFRP1\", \"ENSG00000251107_PDCD5P2\", \"ENSG00000226964_RHEBP2\", \"ENSG00000214988_RPL7AP26\", \"ENSG00000248873_SERBP1P6\", \"ENSG00000212588_SNORA26\", \"ENSG00000166984_TCP10L2\", \"ENSG00000226051_ZNF503-AS1\"] ,axis=1)"
   ]
  },
  {
   "cell_type": "code",
   "execution_count": null,
   "metadata": {},
   "outputs": [],
   "source": [
    "columns = cite_train_X_idxcol[\"columns\"]\n",
    "columns_test = cite_test_X_idxcol[\"columns\"]"
   ]
  },
  {
   "cell_type": "code",
   "execution_count": null,
   "metadata": {},
   "outputs": [],
   "source": [
    "X = cite_train_X_values.todense()\n",
    "X_test = cite_test_X_values.todense()"
   ]
  },
  {
   "cell_type": "code",
   "execution_count": null,
   "metadata": {},
   "outputs": [],
   "source": [
    "test_X_2.values"
   ]
  },
  {
   "cell_type": "code",
   "execution_count": null,
   "metadata": {},
   "outputs": [],
   "source": [
    "columns"
   ]
  },
  {
   "cell_type": "code",
   "execution_count": null,
   "metadata": {},
   "outputs": [],
   "source": [
    "np.array((test_X_2.values == 0).all(axis=0)).flatten()"
   ]
  },
  {
   "cell_type": "code",
   "execution_count": null,
   "metadata": {},
   "outputs": [],
   "source": [
    "list(columns[np.array((test_X_2.values == 0).all(axis=0)).flatten()])"
   ]
  },
  {
   "cell_type": "code",
   "execution_count": null,
   "metadata": {},
   "outputs": [],
   "source": [
    "constant_cols = list(columns[np.array((X == 0).all(axis=0)).flatten()]) + list(columns[np.array((X_test == 0).all(axis=0)).flatten()]) + list(columns[np.array((test_X_2.values == 0).all(axis=0)).flatten()])"
   ]
  },
  {
   "cell_type": "code",
   "execution_count": null,
   "metadata": {},
   "outputs": [],
   "source": [
    "len(list(columns[np.array((X == 0).all(axis=0)).flatten()]))"
   ]
  },
  {
   "cell_type": "code",
   "execution_count": null,
   "metadata": {},
   "outputs": [],
   "source": [
    "len(list(columns[np.array((X_test == 0).all(axis=0)).flatten()]))"
   ]
  },
  {
   "cell_type": "code",
   "execution_count": null,
   "metadata": {},
   "outputs": [],
   "source": [
    "len(constant_cols)"
   ]
  },
  {
   "cell_type": "code",
   "execution_count": null,
   "metadata": {},
   "outputs": [],
   "source": [
    "train_y_values = scipy.sparse.load_npz(\n",
    "            \"../../data/input/compressed/train_multi_targets_values.sparse.npz\"\n",
    "        )"
   ]
  },
  {
   "cell_type": "code",
   "execution_count": null,
   "metadata": {},
   "outputs": [],
   "source": [
    "train_y_values.todense()"
   ]
  },
  {
   "cell_type": "code",
   "execution_count": null,
   "metadata": {},
   "outputs": [],
   "source": [
    "train_y_values -= train_y_values.mean(axis=1).reshape(-1, 1)\n",
    "train_y_values /= train_y_values.std(axis=1).reshape(-1, 1)"
   ]
  },
  {
   "cell_type": "code",
   "execution_count": null,
   "metadata": {},
   "outputs": [],
   "source": [
    "train_y_values"
   ]
  },
  {
   "cell_type": "code",
   "execution_count": null,
   "metadata": {},
   "outputs": [],
   "source": [
    "train_y_values.shape"
   ]
  },
  {
   "cell_type": "code",
   "execution_count": null,
   "metadata": {},
   "outputs": [],
   "source": [
    "e = pd.read_csv(\"../../data\\output\\sub_mlp_no_ss_dropout.csv\")"
   ]
  },
  {
   "cell_type": "code",
   "execution_count": null,
   "metadata": {},
   "outputs": [],
   "source": [
    "e[\"target\"]"
   ]
  },
  {
   "cell_type": "code",
   "execution_count": null,
   "metadata": {},
   "outputs": [],
   "source": [
    "b[\"target\"]"
   ]
  },
  {
   "cell_type": "code",
   "execution_count": null,
   "metadata": {},
   "outputs": [],
   "source": [
    "plt.plot(np.histogram(e[\"target\"]+b[\"target\"], bins=1000)[0])"
   ]
  },
  {
   "cell_type": "code",
   "execution_count": null,
   "metadata": {},
   "outputs": [],
   "source": [
    "e = pd.read_csv(\"../../data\\output\\sub_mlp_no_ss_dropout_1dcnn.csv\")"
   ]
  },
  {
   "cell_type": "code",
   "execution_count": null,
   "metadata": {},
   "outputs": [],
   "source": [
    "plt.plot(np.histogram(e[\"target\"]+b[\"target\"], bins=1000)[0])"
   ]
  },
  {
   "cell_type": "code",
   "execution_count": null,
   "metadata": {},
   "outputs": [],
   "source": [
    "b = pd.read_csv(\"../../data\\output\\sub_best.csv\")"
   ]
  },
  {
   "cell_type": "code",
   "execution_count": null,
   "metadata": {},
   "outputs": [],
   "source": [
    "a = pd.read_csv(\"../../data\\output\\sub_mlp256_e30_meta2.csv\")\n",
    "b = pd.read_csv(\"../../data\\output\\sub_best.csv\")\n",
    "c = pd.read_csv(\"../../data\\output\\sub_ensemble_pub_best.csv\")\n",
    "d = pd.read_csv(\"../../data\\output\\sub_ensemble_pub_best_ss.csv\")"
   ]
  },
  {
   "cell_type": "code",
   "execution_count": null,
   "metadata": {},
   "outputs": [],
   "source": [
    "import matplotlib.pyplot as plt"
   ]
  },
  {
   "cell_type": "code",
   "execution_count": null,
   "metadata": {},
   "outputs": [],
   "source": [
    "plt.plot(np.histogram(b[\"target\"] + e[\"target\"], bins=1000)[0])"
   ]
  },
  {
   "cell_type": "code",
   "execution_count": null,
   "metadata": {},
   "outputs": [],
   "source": [
    "plt.plot(np.histogram(e[\"target\"], bins=1000)[0])"
   ]
  },
  {
   "cell_type": "code",
   "execution_count": null,
   "metadata": {},
   "outputs": [],
   "source": [
    "plt.plot(np.histogram(a[\"target\"], bins=1000)[0])"
   ]
  },
  {
   "cell_type": "code",
   "execution_count": null,
   "metadata": {},
   "outputs": [],
   "source": [
    "plt.plot(np.histogram(b[\"target\"], bins=1000)[0])"
   ]
  },
  {
   "cell_type": "code",
   "execution_count": null,
   "metadata": {},
   "outputs": [],
   "source": [
    "plt.plot(np.histogram(c[\"target\"], bins=1000)[0])"
   ]
  },
  {
   "cell_type": "code",
   "execution_count": null,
   "metadata": {},
   "outputs": [],
   "source": [
    "plt.plot(np.histogram(d[\"target\"], bins=1000)[0])"
   ]
  },
  {
   "cell_type": "code",
   "execution_count": null,
   "metadata": {},
   "outputs": [],
   "source": [
    "test = pd.read_csv(\"../../data\\input\\evaluation_ids.csv\")"
   ]
  },
  {
   "cell_type": "code",
   "execution_count": null,
   "metadata": {},
   "outputs": [],
   "source": [
    "np.histogram(a[\"target\"], bins=1000)"
   ]
  },
  {
   "cell_type": "code",
   "execution_count": null,
   "metadata": {},
   "outputs": [],
   "source": [
    "np.histogram(b[\"target\"], bins=1000)"
   ]
  },
  {
   "cell_type": "code",
   "execution_count": null,
   "metadata": {},
   "outputs": [],
   "source": [
    "np.histogram(a[\"target\"], bins=1000)"
   ]
  },
  {
   "cell_type": "code",
   "execution_count": null,
   "metadata": {},
   "outputs": [],
   "source": [
    "test"
   ]
  },
  {
   "cell_type": "code",
   "execution_count": null,
   "metadata": {},
   "outputs": [],
   "source": [
    "unique, freq = np.unique(test[\"cell_id\"], return_counts=True)"
   ]
  },
  {
   "cell_type": "code",
   "execution_count": null,
   "metadata": {},
   "outputs": [],
   "source": [
    "np.min(freq)"
   ]
  },
  {
   "cell_type": "code",
   "execution_count": null,
   "metadata": {},
   "outputs": [],
   "source": [
    "train_X_values = scipy.sparse.load_npz(\n",
    "    \"../../data/input/svd/svd_train_cite_inputs_values_64.npz\"\n",
    ")\n",
    "test_X_values = scipy.sparse.load_npz(\n",
    "    \"../../data/input/svd/svd_test_cite_inputs_values_64.npz\"\n",
    ")\n",
    "train_X_idxcol = np.load(\n",
    "    \"../../data/input/compressed/train_cite_inputs_idxcol.npz\", allow_pickle=True\n",
    ")\n",
    "train_y_values = scipy.sparse.load_npz(\n",
    "    \"../../data/input/compressed/train_cite_targets_values.sparse.npz\"\n",
    ")\n",
    "train_y_idxcol = np.load(\n",
    "    \"../../data/input/compressed/train_cite_targets_idxcol.npz\", allow_pickle=True\n",
    ")\n",
    "test_X_idxcol = np.load(\n",
    "    \"../../data/input/compressed/test_cite_inputs_idxcol.npz\", allow_pickle=True\n",
    ")"
   ]
  },
  {
   "cell_type": "code",
   "execution_count": null,
   "metadata": {},
   "outputs": [],
   "source": [
    "from sklearn.preprocessing import OneHotEncoder"
   ]
  },
  {
   "cell_type": "code",
   "execution_count": null,
   "metadata": {},
   "outputs": [],
   "source": [
    "metadata = pd.read_csv(\"../../data/input/metadata.csv\", index_col=\"cell_id\")\n",
    "\n",
    "# reindex\n",
    "train_metadata = metadata.reindex(train_X_idxcol[\"index\"])\n",
    "test_metadata = metadata.reindex(test_X_idxcol[\"index\"])\n",
    "\n",
    "# use meta data\n",
    "train_meta = train_metadata.drop([\"donor\", \"technology\"], axis=1)\n",
    "test_meta = test_metadata.drop([\"donor\", \"technology\"], axis=1)\n",
    "print(train_meta)\n",
    "# one-hot encoding\n",
    "ohe = OneHotEncoder(handle_unknown=\"ignore\", sparse=False)\n",
    "train_meta = scipy.sparse.csr_matrix(ohe.fit_transform(train_meta.values))\n",
    "test_meta = scipy.sparse.csr_matrix(ohe.transform(test_meta.values))\n",
    "# 水平結合\n",
    "train_X_values = scipy.sparse.hstack([train_X_values, train_meta], format=\"csr\")\n",
    "test_X_values = scipy.sparse.hstack([test_X_values, test_meta], format=\"csr\")"
   ]
  },
  {
   "cell_type": "code",
   "execution_count": null,
   "metadata": {},
   "outputs": [],
   "source": [
    "train_metadata.day.unique()"
   ]
  },
  {
   "cell_type": "code",
   "execution_count": null,
   "metadata": {},
   "outputs": [],
   "source": [
    "test_metadata.day.unique()"
   ]
  },
  {
   "cell_type": "code",
   "execution_count": null,
   "metadata": {},
   "outputs": [],
   "source": [
    "train_X_values.todense().shape"
   ]
  },
  {
   "cell_type": "code",
   "execution_count": null,
   "metadata": {},
   "outputs": [],
   "source": [
    "test_X_values.todense().shape"
   ]
  },
  {
   "cell_type": "markdown",
   "metadata": {},
   "source": [
    "read"
   ]
  },
  {
   "cell_type": "code",
   "execution_count": null,
   "metadata": {},
   "outputs": [],
   "source": [
    "metadata = pd.read_csv(\"../../data/input/metadata.csv\")"
   ]
  },
  {
   "cell_type": "code",
   "execution_count": null,
   "metadata": {},
   "outputs": [],
   "source": [
    "cite_train_X = pd.read_hdf(\"../../data/input/train_cite_inputs.h5\")"
   ]
  },
  {
   "cell_type": "code",
   "execution_count": null,
   "metadata": {},
   "outputs": [],
   "source": [
    "cite_train_Y = pd.read_hdf(\"../../data/input/train_cite_targets.h5\")"
   ]
  },
  {
   "cell_type": "code",
   "execution_count": null,
   "metadata": {},
   "outputs": [],
   "source": [
    "cite_test_X = pd.read_hdf(\"../../data/input/test_cite_inputs.h5\")"
   ]
  },
  {
   "cell_type": "code",
   "execution_count": null,
   "metadata": {},
   "outputs": [],
   "source": [
    "list(pd.read_csv(\"../../data/input/correlation/cite_max_min_corr_01.csv\", header=None)[0])"
   ]
  },
  {
   "cell_type": "code",
   "execution_count": null,
   "metadata": {},
   "outputs": [],
   "source": [
    "metadata"
   ]
  },
  {
   "cell_type": "code",
   "execution_count": null,
   "metadata": {},
   "outputs": [],
   "source": [
    "metadata.columns"
   ]
  },
  {
   "cell_type": "code",
   "execution_count": null,
   "metadata": {},
   "outputs": [],
   "source": [
    "cite_train_X"
   ]
  },
  {
   "cell_type": "code",
   "execution_count": null,
   "metadata": {},
   "outputs": [],
   "source": [
    "cite_test_X"
   ]
  },
  {
   "cell_type": "code",
   "execution_count": null,
   "metadata": {},
   "outputs": [],
   "source": [
    "merged = pd.merge(cite_train_X, metadata, on=\"cell_id\")"
   ]
  },
  {
   "cell_type": "code",
   "execution_count": null,
   "metadata": {},
   "outputs": [],
   "source": [
    "merged[\"donor\"]"
   ]
  },
  {
   "cell_type": "code",
   "execution_count": null,
   "metadata": {},
   "outputs": [],
   "source": [
    "merged[\"donor\"].unique()"
   ]
  },
  {
   "cell_type": "code",
   "execution_count": null,
   "metadata": {},
   "outputs": [],
   "source": []
  },
  {
   "cell_type": "code",
   "execution_count": null,
   "metadata": {},
   "outputs": [],
   "source": [
    "merged = pd.merge(cite_test_X, metadata, on=\"cell_id\")\n",
    "merged[\"donor\"]"
   ]
  },
  {
   "cell_type": "code",
   "execution_count": null,
   "metadata": {},
   "outputs": [],
   "source": [
    "merged"
   ]
  },
  {
   "cell_type": "code",
   "execution_count": null,
   "metadata": {},
   "outputs": [],
   "source": [
    "merged[\"donor\"].unique()"
   ]
  },
  {
   "cell_type": "code",
   "execution_count": null,
   "metadata": {},
   "outputs": [],
   "source": []
  },
  {
   "cell_type": "code",
   "execution_count": null,
   "metadata": {},
   "outputs": [],
   "source": [
    "cite_train_Y"
   ]
  },
  {
   "cell_type": "code",
   "execution_count": null,
   "metadata": {},
   "outputs": [],
   "source": [
    "matching_names = []\n",
    "for protein in cite_train_Y.columns:\n",
    "    matching_names += [(gene, protein) for gene in cite_train_X.columns if protein in gene]\n",
    "important = pd.DataFrame(matching_names, columns=['Gene', 'Protein'])"
   ]
  },
  {
   "cell_type": "code",
   "execution_count": null,
   "metadata": {},
   "outputs": [],
   "source": [
    "important"
   ]
  },
  {
   "cell_type": "code",
   "execution_count": null,
   "metadata": {},
   "outputs": [],
   "source": [
    "for i in important[\"Gene\"]:\n",
    "    print(f'\"{i}\"', end=\", \")"
   ]
  },
  {
   "cell_type": "code",
   "execution_count": null,
   "metadata": {},
   "outputs": [],
   "source": []
  }
 ],
 "metadata": {
  "kernelspec": {
   "display_name": "Python 3.8.13 ('machine-l')",
   "language": "python",
   "name": "python3"
  },
  "language_info": {
   "codemirror_mode": {
    "name": "ipython",
    "version": 3
   },
   "file_extension": ".py",
   "mimetype": "text/x-python",
   "name": "python",
   "nbconvert_exporter": "python",
   "pygments_lexer": "ipython3",
   "version": "3.9.12"
  },
  "orig_nbformat": 4,
  "vscode": {
   "interpreter": {
    "hash": "2be23fb8cd672a4fc54da0a64e17ec8d3dc8e8b4233761718bd33e3dee96d306"
   }
  }
 },
 "nbformat": 4,
 "nbformat_minor": 2
}
